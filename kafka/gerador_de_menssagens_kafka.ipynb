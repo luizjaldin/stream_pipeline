{
 "cells": [
  {
   "cell_type": "code",
   "execution_count": 1,
   "metadata": {},
   "outputs": [],
   "source": [
    "from confluent_kafka.admin import AdminClient, NewTopic\n",
    "from confluent_kafka import Producer\n",
    "import random\n",
    "import dados_de_negocio as bd\n",
    "import datetime\n",
    "import json"
   ]
  },
  {
   "cell_type": "code",
   "execution_count": 2,
   "metadata": {},
   "outputs": [],
   "source": [
    "# Configurações do Kafka \n",
    "bootstrap_servers = 'localhost:9092'\n",
    "new_topic_name = 'topic_streaming_data'\n",
    "producer_config = {'bootstrap.servers': bootstrap_servers}"
   ]
  },
  {
   "cell_type": "code",
   "execution_count": 3,
   "metadata": {},
   "outputs": [
    {
     "data": {
      "text/plain": [
       "{'topic_streaming_data': <Future at 0x7ff5b9d4eb90 state=running>}"
      ]
     },
     "execution_count": 3,
     "metadata": {},
     "output_type": "execute_result"
    }
   ],
   "source": [
    "# Criar um tópico Kafka\n",
    "admin_client = AdminClient({'bootstrap.servers': bootstrap_servers})\n",
    "\n",
    "new_topic = NewTopic(new_topic_name, num_partitions=1, replication_factor=1)\n",
    "admin_client.create_topics([new_topic])"
   ]
  },
  {
   "cell_type": "code",
   "execution_count": 4,
   "metadata": {},
   "outputs": [],
   "source": [
    "# Criar producer\n",
    "producer = Producer(producer_config)"
   ]
  },
  {
   "cell_type": "code",
   "execution_count": 5,
   "metadata": {},
   "outputs": [
    {
     "name": "stdout",
     "output_type": "stream",
     "text": [
      "Mensagens enviadas para o tópico \"topic_streaming_data\"\n"
     ]
    }
   ],
   "source": [
    "# Enviar mensagens para o tópico Kafka\n",
    "for i in range(200):\n",
    "    vendedor = random.choice(list(bd.vendedores.keys()))\n",
    "    filial = bd.filiais.get(bd.vendedores.get(vendedor).get('filial'))\n",
    "    produto = random.choice(list(bd.produtos.keys()))\n",
    "    quantidade = random.choice([1,1,1,1,1,1,1,1,1,1,1,1,1,1,1,1,1,1,1,1,1,1,2,2,2,2,2,2,2,3,3,4,5,6,7,8,9,10])\n",
    "\n",
    "    evento_venda = {'vendedor' : bd.vendedores.get(vendedor),\n",
    "                'filial' : filial,\n",
    "                'produto' : bd.produtos.get(produto),\n",
    "                'quantidade' : quantidade,\n",
    "                'ordem_id':str(datetime.datetime.now().timestamp()).replace('.',''),\n",
    "                'timestamp': str(datetime.datetime.now().timestamp()),\n",
    "                }\n",
    "    \n",
    "    producer.produce(new_topic_name, value=json.dumps(evento_venda))\n",
    "    producer.flush()\n",
    "\n",
    "print(f'Mensagens enviadas para o tópico \"{new_topic_name}\"')"
   ]
  },
  {
   "cell_type": "code",
   "execution_count": 6,
   "metadata": {},
   "outputs": [
    {
     "data": {
      "text/plain": [
       "{'vendedor': {'nome': 'Pedro', 'codigo': 'vend7', 'filial': 'Filial 7'},\n",
       " 'filial': {'nome': 'Filial 7', 'estado': 'ES', 'cidade': 'Vitória'},\n",
       " 'produto': {'codigo': 'CB3A',\n",
       "  'nome': 'Cama de casal',\n",
       "  'preço': 2000,\n",
       "  'categoria': 'Móveis',\n",
       "  'cor': 'Azul'},\n",
       " 'quantidade': 1,\n",
       " 'ordem_id': '1704425627984795',\n",
       " 'timestamp': '1704425627.984823'}"
      ]
     },
     "execution_count": 6,
     "metadata": {},
     "output_type": "execute_result"
    }
   ],
   "source": [
    "evento_venda"
   ]
  },
  {
   "cell_type": "code",
   "execution_count": null,
   "metadata": {},
   "outputs": [],
   "source": []
  }
 ],
 "metadata": {
  "kernelspec": {
   "display_name": "n_projects",
   "language": "python",
   "name": "python3"
  },
  "language_info": {
   "codemirror_mode": {
    "name": "ipython",
    "version": 3
   },
   "file_extension": ".py",
   "mimetype": "text/x-python",
   "name": "python",
   "nbconvert_exporter": "python",
   "pygments_lexer": "ipython3",
   "version": "3.7.16"
  }
 },
 "nbformat": 4,
 "nbformat_minor": 2
}
