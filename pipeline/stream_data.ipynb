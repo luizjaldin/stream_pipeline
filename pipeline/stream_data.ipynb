{
 "cells": [
  {
   "cell_type": "code",
   "execution_count": 1,
   "metadata": {},
   "outputs": [],
   "source": [
    "from pyspark.sql import SparkSession\n",
    "import pyspark.sql.functions as F\n",
    "from pyspark.sql.types import StructType, StructField, StringType, DoubleType, IntegerType, TimestampType\n",
    "import datetime\n",
    "import os"
   ]
  },
  {
   "cell_type": "code",
   "execution_count": 2,
   "metadata": {},
   "outputs": [],
   "source": [
    "# import Java home\n",
    "os.environ[\"JAVA_HOME\"] = \"/usr/local/opt/openjdk@11\""
   ]
  },
  {
   "cell_type": "code",
   "execution_count": 3,
   "metadata": {},
   "outputs": [
    {
     "name": "stderr",
     "output_type": "stream",
     "text": [
      "/Users/luiz.oliveira/opt/anaconda3/envs/kafka_exe/lib/python3.7/site-packages/pyspark/context.py:317: FutureWarning: Python 3.7 support is deprecated in Spark 3.4.\n",
      "  warnings.warn(\"Python 3.7 support is deprecated in Spark 3.4.\", FutureWarning)\n"
     ]
    }
   ],
   "source": [
    "# create spark session\n",
    "spark = SparkSession.builder \\\n",
    "    .config(\"spark.driver.host\", \"localhost\") \\\n",
    "    .config(\"spark.jars.packages\", \"org.apache.spark:spark-sql-kafka-0-10_2.12:3.4.0\") \\\n",
    "    .appName(\"StreamingPipeline\") \\\n",
    "    .master(\"local[2]\") \\\n",
    "    .getOrCreate()"
   ]
  },
  {
   "cell_type": "code",
   "execution_count": 4,
   "metadata": {},
   "outputs": [],
   "source": [
    "# read data from kafka\n",
    "kafka_bootstrap_servers = 'localhost:9092'\n",
    "kafka_topic = 'topic_streaming_data'\n",
    "\n",
    "streaming_df = spark.readStream \\\n",
    "    .format(\"kafka\") \\\n",
    "    .option(\"kafka.bootstrap.servers\", kafka_bootstrap_servers) \\\n",
    "    .option(\"subscribe\", kafka_topic) \\\n",
    "    .option(\"startingOffsets\", \"earliest\") \\\n",
    "    .option(\"failOnDataLoss\", \"false\") \\\n",
    "    .load()"
   ]
  },
  {
   "cell_type": "code",
   "execution_count": 5,
   "metadata": {},
   "outputs": [
    {
     "name": "stdout",
     "output_type": "stream",
     "text": [
      "root\n",
      " |-- key: binary (nullable = true)\n",
      " |-- value: binary (nullable = true)\n",
      " |-- topic: string (nullable = true)\n",
      " |-- partition: integer (nullable = true)\n",
      " |-- offset: long (nullable = true)\n",
      " |-- timestamp: timestamp (nullable = true)\n",
      " |-- timestampType: integer (nullable = true)\n",
      "\n"
     ]
    }
   ],
   "source": [
    "streaming_df.printSchema()"
   ]
  },
  {
   "cell_type": "code",
   "execution_count": 6,
   "metadata": {},
   "outputs": [],
   "source": [
    "# Estrutura do json\n",
    "json_schema = StructType([\n",
    "    StructField('vendedor', StructType([\n",
    "        StructField('nome', StringType()),\n",
    "        StructField('codigo', StringType()),\n",
    "        StructField('filial', StringType())\n",
    "    ])),\n",
    "    StructField('filial', StructType([\n",
    "        StructField('nome', StringType()),\n",
    "        StructField('estado', StringType()),\n",
    "        StructField('cidade', StringType())\n",
    "    ])),\n",
    "    StructField('produto', StructType([\n",
    "        StructField('codigo', StringType()),\n",
    "        StructField('nome', StringType()),\n",
    "        StructField('preço', DoubleType()),\n",
    "        StructField('categoria', StringType()),\n",
    "        StructField('cor', StringType())\n",
    "    ])),\n",
    "    StructField('quantidade', IntegerType()),\n",
    "    StructField('ordem_id', IntegerType()),\n",
    "    StructField('timestamp', StringType())\n",
    "])"
   ]
  },
  {
   "cell_type": "code",
   "execution_count": 7,
   "metadata": {},
   "outputs": [],
   "source": [
    "# Decodifica o valor da mensagem para UTF-8 e converte para json\n",
    "streaming_df = streaming_df.withColumn(\"value\", F.decode(F.col(\"value\"), 'UTF-8'))\n",
    "streaming_df = streaming_df.select(F.from_json(F.col('value').cast('string'), json_schema).alias('data'),'timestamp')"
   ]
  },
  {
   "cell_type": "code",
   "execution_count": 8,
   "metadata": {},
   "outputs": [
    {
     "name": "stdout",
     "output_type": "stream",
     "text": [
      "root\n",
      " |-- data: struct (nullable = true)\n",
      " |    |-- vendedor: struct (nullable = true)\n",
      " |    |    |-- nome: string (nullable = true)\n",
      " |    |    |-- codigo: string (nullable = true)\n",
      " |    |    |-- filial: string (nullable = true)\n",
      " |    |-- filial: struct (nullable = true)\n",
      " |    |    |-- nome: string (nullable = true)\n",
      " |    |    |-- estado: string (nullable = true)\n",
      " |    |    |-- cidade: string (nullable = true)\n",
      " |    |-- produto: struct (nullable = true)\n",
      " |    |    |-- codigo: string (nullable = true)\n",
      " |    |    |-- nome: string (nullable = true)\n",
      " |    |    |-- preço: double (nullable = true)\n",
      " |    |    |-- categoria: string (nullable = true)\n",
      " |    |    |-- cor: string (nullable = true)\n",
      " |    |-- quantidade: integer (nullable = true)\n",
      " |    |-- ordem_id: integer (nullable = true)\n",
      " |    |-- timestamp: string (nullable = true)\n",
      " |-- timestamp: timestamp (nullable = true)\n",
      " |-- timestamp_venda: string (nullable = true)\n",
      "\n"
     ]
    }
   ],
   "source": [
    "streaming_df.printSchema()"
   ]
  },
  {
   "cell_type": "code",
   "execution_count": 9,
   "metadata": {},
   "outputs": [],
   "source": [
    "filtered_df = streaming_df.filter(F.col(\"data.produto.categoria\") == 'Eletrônicos')\\\n",
    "                            .select(\n",
    "                                'data.produto.nome',\n",
    "                                'data.produto.preço',\n",
    "                                'data.quantidade',\n",
    "                                'data.filial.nome',\n",
    "                                'data.filial.cidade',\n",
    "                                'data.ordem_id',\n",
    "                                'timestamp'\n",
    "                            )"
   ]
  },
  {
   "cell_type": "code",
   "execution_count": 10,
   "metadata": {},
   "outputs": [
    {
     "name": "stdout",
     "output_type": "stream",
     "text": [
      "root\n",
      " |-- nome: string (nullable = true)\n",
      " |-- preço: double (nullable = true)\n",
      " |-- quantidade: integer (nullable = true)\n",
      " |-- nome: string (nullable = true)\n",
      " |-- cidade: string (nullable = true)\n",
      " |-- ordem_id: integer (nullable = true)\n",
      " |-- timestamp: timestamp (nullable = true)\n",
      "\n"
     ]
    }
   ],
   "source": [
    "filtered_df.printSchema()"
   ]
  },
  {
   "cell_type": "code",
   "execution_count": 11,
   "metadata": {},
   "outputs": [],
   "source": [
    "# Agregação soma total, quantidade vendida e valor médio de venda\n",
    "aggregated_df = filtered_df.withWatermark(\"timestamp\", \"10 minutes\")\\\n",
    "                           .groupBy(F.window(F.col(\"timestamp\"), \"10 minutes\"),\"cidade\").agg(F.sum( \n",
    "                                                            F.col(\"preço\")*F.col(\"quantidade\")\n",
    "                                                            ).alias(\"total\"),\n",
    "                                                            F.sum(\"quantidade\").alias(\"quantidade_vendida\"),\n",
    "                           )\n",
    "\n",
    "aggregated_df = aggregated_df.withColumn(\"valor_medio_de_venda\", F.col(\"total\")/F.col(\"quantidade_vendida\"))"
   ]
  },
  {
   "cell_type": "code",
   "execution_count": 12,
   "metadata": {},
   "outputs": [
    {
     "name": "stdout",
     "output_type": "stream",
     "text": [
      "root\n",
      " |-- window: struct (nullable = false)\n",
      " |    |-- start: timestamp (nullable = true)\n",
      " |    |-- end: timestamp (nullable = true)\n",
      " |-- cidade: string (nullable = true)\n",
      " |-- total: double (nullable = true)\n",
      " |-- quantidade_vendida: long (nullable = true)\n",
      " |-- valor_medio_de_venda: double (nullable = true)\n",
      "\n"
     ]
    }
   ],
   "source": [
    "aggregated_df.printSchema()"
   ]
  },
  {
   "cell_type": "code",
   "execution_count": 13,
   "metadata": {},
   "outputs": [],
   "source": [
    "# Adiciona colunas de ano, mês, dia e hora\n",
    "aggregated_df = aggregated_df.withColumn(\"year\", F.year(F.col(\"window.start\")))\n",
    "aggregated_df = aggregated_df.withColumn(\"month\",F.month(F.col(\"window.start\")))\n",
    "aggregated_df = aggregated_df.withColumn(\"day\", F.dayofmonth(F.col(\"window.start\")))\n",
    "aggregated_df = aggregated_df.withColumn(\"hour\", F.hour(F.col(\"window.start\")))"
   ]
  },
  {
   "cell_type": "code",
   "execution_count": 14,
   "metadata": {},
   "outputs": [],
   "source": [
    "# Define os path de output e checkpoint\n",
    "output_path = os.getcwd().split('stream_pipeline')[0] + \"stream_pipeline/output/topic_streaming_data/ingestao_manual\"\n",
    "checkpoint_path = os.getcwd().split('stream_pipeline')[0] + \"stream_pipeline/checkpoint_path/topic_streaming_data/ingestao_manual\""
   ]
  },
  {
   "cell_type": "code",
   "execution_count": 15,
   "metadata": {},
   "outputs": [],
   "source": [
    "# Savar dados em parquet\n",
    "query = aggregated_df.writeStream \\\n",
    "    .outputMode(\"append\") \\\n",
    "    .format(\"parquet\") \\\n",
    "    .option(\"path\", output_path) \\\n",
    "    .option(\"checkpointLocation\", checkpoint_path) \\\n",
    "    .partitionBy(\"year\", \"month\", \"day\", \"hour\") \\\n",
    "    .trigger(processingTime='1 minute') \\\n",
    "    .start()"
   ]
  },
  {
   "cell_type": "code",
   "execution_count": 16,
   "metadata": {},
   "outputs": [
    {
     "name": "stdout",
     "output_type": "stream",
     "text": [
      "{'message': 'Waiting for next trigger', 'isDataAvailable': False, 'isTriggerActive': False}\n"
     ]
    }
   ],
   "source": [
    "print(query.status)"
   ]
  },
  {
   "cell_type": "code",
   "execution_count": 17,
   "metadata": {},
   "outputs": [],
   "source": [
    "# Ler dados em parquet\n",
    "df = spark.read.format('delta').parquet('/Users/luiz.oliveira/eng_data/stream_pipeline/output/topic_streaming_data/ingestao_manual')"
   ]
  },
  {
   "cell_type": "code",
   "execution_count": 18,
   "metadata": {},
   "outputs": [
    {
     "name": "stdout",
     "output_type": "stream",
     "text": [
      "+------------------------------------------+--------------+-------+------------------+--------------------+----+-----+---+----+\n",
      "|window                                    |cidade        |total  |quantidade_vendida|valor_medio_de_venda|year|month|day|hour|\n",
      "+------------------------------------------+--------------+-------+------------------+--------------------+----+-----+---+----+\n",
      "|{2024-01-04 23:10:00, 2024-01-04 23:20:00}|Curitiba      |2000.0 |1                 |2000.0              |2024|1    |4  |23  |\n",
      "|{2024-01-04 23:10:00, 2024-01-04 23:20:00}|São Paulo     |1500.0 |1                 |1500.0              |2024|1    |4  |23  |\n",
      "|{2024-01-04 23:20:00, 2024-01-04 23:30:00}|Florianópolis |37500.0|22                |1704.5454545454545  |2024|1    |4  |23  |\n",
      "|{2024-01-04 23:20:00, 2024-01-04 23:30:00}|Belo Horizonte|19000.0|12                |1583.3333333333333  |2024|1    |4  |23  |\n",
      "|{2024-01-04 23:20:00, 2024-01-04 23:30:00}|Rio de Janeiro|7500.0 |4                 |1875.0              |2024|1    |4  |23  |\n",
      "|{2024-01-04 23:30:00, 2024-01-04 23:40:00}|Rio de Janeiro|7000.0 |4                 |1750.0              |2024|1    |4  |23  |\n",
      "|{2024-01-04 23:30:00, 2024-01-04 23:40:00}|Florianópolis |79000.0|46                |1717.391304347826   |2024|1    |4  |23  |\n",
      "|{2024-01-04 23:40:00, 2024-01-04 23:50:00}|Rio de Janeiro|14500.0|9                 |1611.111111111111   |2024|1    |4  |23  |\n",
      "|{2024-01-04 23:40:00, 2024-01-04 23:50:00}|Belo Horizonte|21000.0|11                |1909.090909090909   |2024|1    |4  |23  |\n",
      "|{2024-01-04 23:40:00, 2024-01-04 23:50:00}|Florianópolis |24000.0|12                |2000.0              |2024|1    |4  |23  |\n",
      "|{2024-01-04 23:50:00, 2024-01-05 00:00:00}|Rio de Janeiro|32000.0|20                |1600.0              |2024|1    |4  |23  |\n",
      "|{2024-01-04 23:50:00, 2024-01-05 00:00:00}|Belo Horizonte|11000.0|7                 |1571.4285714285713  |2024|1    |4  |23  |\n",
      "|{2024-01-04 23:50:00, 2024-01-05 00:00:00}|Florianópolis |21500.0|12                |1791.6666666666667  |2024|1    |4  |23  |\n",
      "|{2024-01-05 00:00:00, 2024-01-05 00:10:00}|Rio de Janeiro|33000.0|20                |1650.0              |2024|1    |5  |0   |\n",
      "|{2024-01-05 00:00:00, 2024-01-05 00:10:00}|Florianópolis |29000.0|18                |1611.111111111111   |2024|1    |5  |0   |\n",
      "|{2024-01-04 23:10:00, 2024-01-04 23:20:00}|Florianópolis |3500.0 |2                 |1750.0              |2024|1    |4  |23  |\n",
      "|{2024-01-04 23:10:00, 2024-01-04 23:20:00}|Rio de Janeiro|2000.0 |1                 |2000.0              |2024|1    |4  |23  |\n",
      "|{2024-01-04 23:10:00, 2024-01-04 23:20:00}|Belo Horizonte|7500.0 |4                 |1875.0              |2024|1    |4  |23  |\n",
      "|{2024-01-04 23:30:00, 2024-01-04 23:40:00}|Belo Horizonte|28500.0|16                |1781.25             |2024|1    |4  |23  |\n",
      "|{2024-01-05 00:00:00, 2024-01-05 00:10:00}|Belo Horizonte|29500.0|18                |1638.888888888889   |2024|1    |5  |0   |\n",
      "+------------------------------------------+--------------+-------+------------------+--------------------+----+-----+---+----+\n",
      "only showing top 20 rows\n",
      "\n"
     ]
    }
   ],
   "source": [
    "df.show(truncate=False)"
   ]
  }
 ],
 "metadata": {
  "kernelspec": {
   "display_name": "n_projects",
   "language": "python",
   "name": "python3"
  },
  "language_info": {
   "codemirror_mode": {
    "name": "ipython",
    "version": 3
   },
   "file_extension": ".py",
   "mimetype": "text/x-python",
   "name": "python",
   "nbconvert_exporter": "python",
   "pygments_lexer": "ipython3",
   "version": "3.7.16"
  }
 },
 "nbformat": 4,
 "nbformat_minor": 2
}
