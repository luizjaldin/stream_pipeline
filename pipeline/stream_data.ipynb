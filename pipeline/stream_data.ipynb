{
 "cells": [
  {
   "cell_type": "code",
   "execution_count": 3,
   "metadata": {},
   "outputs": [
    {
     "name": "stdout",
     "output_type": "stream",
     "text": [
      "Requirement already satisfied: pyspark==3.4.0 in /Users/luiz.oliveira/projects/n_projects/lib/python3.7/site-packages (3.4.0)\n",
      "Requirement already satisfied: py4j==0.10.9.7 in /Users/luiz.oliveira/projects/n_projects/lib/python3.7/site-packages (from pyspark==3.4.0) (0.10.9.7)\n",
      "\n",
      "\u001b[1m[\u001b[0m\u001b[34;49mnotice\u001b[0m\u001b[1;39;49m]\u001b[0m\u001b[39;49m A new release of pip available: \u001b[0m\u001b[31;49m22.2.2\u001b[0m\u001b[39;49m -> \u001b[0m\u001b[32;49m23.3.2\u001b[0m\n",
      "\u001b[1m[\u001b[0m\u001b[34;49mnotice\u001b[0m\u001b[1;39;49m]\u001b[0m\u001b[39;49m To update, run: \u001b[0m\u001b[32;49mpip install --upgrade pip\u001b[0m\n"
     ]
    }
   ],
   "source": [
    "!pip install pyspark==3.4.0"
   ]
  },
  {
   "cell_type": "code",
   "execution_count": 17,
   "metadata": {},
   "outputs": [
    {
     "ename": "ModuleNotFoundError",
     "evalue": "No module named 'kafka.gerador_menssagens_kafka'",
     "output_type": "error",
     "traceback": [
      "\u001b[0;31m---------------------------------------------------------------------------\u001b[0m",
      "\u001b[0;31mModuleNotFoundError\u001b[0m                       Traceback (most recent call last)",
      "\u001b[0;32m/var/folders/xl/09d4tdwj5s9cs2d6747cz4540000gp/T/ipykernel_12019/1150182530.py\u001b[0m in \u001b[0;36m<module>\u001b[0;34m\u001b[0m\n\u001b[1;32m      2\u001b[0m \u001b[0;32mimport\u001b[0m \u001b[0mpyspark\u001b[0m\u001b[0;34m.\u001b[0m\u001b[0msql\u001b[0m\u001b[0;34m.\u001b[0m\u001b[0mfunctions\u001b[0m \u001b[0;32mas\u001b[0m \u001b[0mF\u001b[0m\u001b[0;34m\u001b[0m\u001b[0;34m\u001b[0m\u001b[0m\n\u001b[1;32m      3\u001b[0m \u001b[0;32mfrom\u001b[0m \u001b[0mpyspark\u001b[0m\u001b[0;34m.\u001b[0m\u001b[0msql\u001b[0m\u001b[0;34m.\u001b[0m\u001b[0mtypes\u001b[0m \u001b[0;32mimport\u001b[0m \u001b[0mStructType\u001b[0m\u001b[0;34m,\u001b[0m \u001b[0mStructField\u001b[0m\u001b[0;34m,\u001b[0m \u001b[0mStringType\u001b[0m\u001b[0;34m,\u001b[0m \u001b[0mDoubleType\u001b[0m\u001b[0;34m,\u001b[0m \u001b[0mIntegerType\u001b[0m\u001b[0;34m,\u001b[0m \u001b[0mTimestampType\u001b[0m\u001b[0;34m\u001b[0m\u001b[0;34m\u001b[0m\u001b[0m\n\u001b[0;32m----> 4\u001b[0;31m \u001b[0;32mfrom\u001b[0m \u001b[0mkafka\u001b[0m\u001b[0;34m.\u001b[0m\u001b[0mgerador_menssagens_kafka\u001b[0m \u001b[0;32mimport\u001b[0m \u001b[0mprocessador_de_vendas\u001b[0m \u001b[0;32mas\u001b[0m \u001b[0mpv\u001b[0m\u001b[0;34m\u001b[0m\u001b[0;34m\u001b[0m\u001b[0m\n\u001b[0m\u001b[1;32m      5\u001b[0m \u001b[0;32mimport\u001b[0m \u001b[0mdatetime\u001b[0m\u001b[0;34m\u001b[0m\u001b[0;34m\u001b[0m\u001b[0m\n\u001b[1;32m      6\u001b[0m \u001b[0;32mimport\u001b[0m \u001b[0mos\u001b[0m\u001b[0;34m\u001b[0m\u001b[0;34m\u001b[0m\u001b[0m\n",
      "\u001b[0;31mModuleNotFoundError\u001b[0m: No module named 'kafka.gerador_menssagens_kafka'"
     ]
    }
   ],
   "source": [
    "from pyspark.sql import SparkSession\n",
    "import pyspark.sql.functions as F\n",
    "from pyspark.sql.types import StructType, StructField, StringType, DoubleType, IntegerType, TimestampType\n",
    "import datetime\n",
    "import os"
   ]
  },
  {
   "cell_type": "code",
   "execution_count": null,
   "metadata": {},
   "outputs": [],
   "source": [
    "from pyspark.sql import SparkSession\n",
    "import pyspark.sql.functions as F\n",
    "from pyspark.sql.types import StructType, StructField, StringType, DoubleType, IntegerType, TimestampType\n",
    "import datetime\n",
    "import os\n",
    "\n",
    "class StreamingPipeline:\n",
    "\n",
    "    def __init__(self):\n",
    "        self.kafka_bootstrap_servers = 'localhost:9092'\n",
    "        self.kafka_topic = 'topic_streaming_data'\n",
    "        self.output_path = os.getcwd().split('stream_pipeline')[0] + \"stream_pipeline/output/topic_streaming_data/data_eletronicos_kpi\"\n",
    "        self.checkpoint_path = os.getcwd().split('stream_pipeline')[0] + \"stream_pipeline/checkpoint_path/topic_streaming_data/data_eletronicos_kpi\"\n",
    "\n",
    "    def get_spark_session(self):\n",
    "        \n",
    "        os.environ[\"JAVA_HOME\"] = \"/usr/local/opt/openjdk@11\"\n",
    "\n",
    "        spark = SparkSession.builder \\\n",
    "                .config(\"spark.driver.host\", \"localhost\") \\\n",
    "                .config(\"spark.jars.packages\", \"org.apache.spark:spark-sql-kafka-0-10_2.12:3.4.0\") \\\n",
    "                .appName(\"StreamingPipeline\") \\\n",
    "                .master(\"local[2]\") \\\n",
    "                .getOrCreate()\n",
    "        return spark\n",
    "\n",
    "    def read_kafka(self, spark):\n",
    "\n",
    "        streaming_df = spark.readStream \\\n",
    "                            .format(\"kafka\") \\\n",
    "                            .option(\"kafka.bootstrap.servers\", self.kafka_bootstrap_servers) \\\n",
    "                            .option(\"subscribe\", self.kafka_topic) \\\n",
    "                            .option(\"startingOffsets\", \"earliest\") \\\n",
    "                            .option(\"failOnDataLoss\", \"false\") \\\n",
    "                            .load()\n",
    "        \n",
    "        json_schema = StructType([\n",
    "                        StructField('vendedor', StructType([\n",
    "                            StructField('nome', StringType()),\n",
    "                            StructField('codigo', StringType()),\n",
    "                            StructField('filial', StringType())\n",
    "                        ])),\n",
    "                        StructField('filial', StructType([\n",
    "                            StructField('nome', StringType()),\n",
    "                            StructField('estado', StringType()),\n",
    "                            StructField('cidade', StringType())\n",
    "                        ])),\n",
    "                        StructField('produto', StructType([\n",
    "                            StructField('codigo', StringType()),\n",
    "                            StructField('nome', StringType()),\n",
    "                            StructField('preço', DoubleType()),\n",
    "                            StructField('categoria', StringType()),\n",
    "                            StructField('cor', StringType())\n",
    "                        ])),\n",
    "                        StructField('quantidade', IntegerType()),\n",
    "                        StructField('ordem_id', IntegerType()),\n",
    "                        StructField('timestamp', StringType())\n",
    "                    ])\n",
    "        \n",
    "        streaming_df = streaming_df.withColumn(\"value\", F.decode(F.col(\"value\"), 'UTF-8'))\n",
    "        streaming_df = streaming_df.select(F.from_json(F.col('value').cast('string'), json_schema).alias('data'),'timestamp')\n",
    "        streaming_df = streaming_df.withColumn(\"timestamp_venda\", F.from_unixtime(\"data.timestamp\"))\n",
    "\n",
    "        filter_df = streaming_df.filter(F.col(\"data.produto.categoria\") == 'Eletrônicos')\\\n",
    "                                .select(\n",
    "                                    'data.produto.nome',\n",
    "                                    'data.produto.preço',\n",
    "                                    'data.quantidade',\n",
    "                                    'data.filial.nome',\n",
    "                                    'data.filial.cidade',\n",
    "                                    'data.ordem_id',\n",
    "                                    'timestamp'\n",
    "                                )\n",
    "\n",
    "        return filter_df\n",
    "\n",
    "    def calcular_metricas(self, df):\n",
    "        aggregated_df = df.withWatermark(\"timestamp\", \"10 minutes\")\\\n",
    "                        .groupBy(F.window(F.col(\"timestamp\"), \"10 minutes\"),\"cidade\").agg(F.sum( \n",
    "                                                                F.col(\"preço\")*F.col(\"quantidade\")\n",
    "                                                                ).alias(\"total\"),\n",
    "                                                                F.sum(\"quantidade\").alias(\"quantidade_vendida\"),\n",
    "                            )\n",
    "\n",
    "        aggregated_df = aggregated_df.withColumn(\"valor_medio_de_venda\", F.col(\"total\")/F.col(\"quantidade_vendida\"))\n",
    "        return aggregated_df\n",
    "    \n",
    "    def save_data(df, self):\n",
    "        df = df.withColumn(\"year\", F.year(F.col(\"window.start\")))\n",
    "        df = df.withColumn(\"month\",F.month(F.col(\"window.start\")))\n",
    "        df = df.withColumn(\"day\", F.dayofmonth(F.col(\"window.start\")))\n",
    "        df = df.withColumn(\"hour\", F.hour(F.col(\"window.start\")))\n",
    "\n",
    "        query = df.writeStream \\\n",
    "                            .outputMode(\"append\") \\\n",
    "                            .format(\"parquet\") \\\n",
    "                            .option(\"path\", self.output_path) \\\n",
    "                            .option(\"checkpointLocation\", self.checkpoint_path) \\\n",
    "                            .partitionBy(\"year\", \"month\", \"day\", \"hour\") \\\n",
    "                            .trigger(processingTime='10 minute') \\\n",
    "                            .start()\n",
    "\n",
    "    def run(self):\n",
    "        spark = self.get_spark_session()\n",
    "        while True:\n",
    "            df = self.read_kafka(spark, self)\n",
    "            df = self.calcular_metricas(df)\n",
    "            self.save_data(df)"
   ]
  },
  {
   "cell_type": "code",
   "execution_count": 3,
   "metadata": {},
   "outputs": [],
   "source": [
    "os.environ[\"JAVA_HOME\"] = \"/usr/local/opt/openjdk@11\""
   ]
  },
  {
   "cell_type": "code",
   "execution_count": 4,
   "metadata": {},
   "outputs": [
    {
     "name": "stdout",
     "output_type": "stream",
     "text": [
      ":: loading settings :: url = jar:file:/Users/luiz.oliveira/projects/n_projects/lib/python3.7/site-packages/pyspark/jars/ivy-2.5.1.jar!/org/apache/ivy/core/settings/ivysettings.xml\n"
     ]
    },
    {
     "name": "stderr",
     "output_type": "stream",
     "text": [
      "Ivy Default Cache set to: /Users/luiz.oliveira/.ivy2/cache\n",
      "The jars for the packages stored in: /Users/luiz.oliveira/.ivy2/jars\n",
      "org.apache.spark#spark-sql-kafka-0-10_2.12 added as a dependency\n",
      ":: resolving dependencies :: org.apache.spark#spark-submit-parent-37d90c30-c27c-4af9-b5f1-b4f166492c20;1.0\n",
      "\tconfs: [default]\n",
      "\tfound org.apache.spark#spark-sql-kafka-0-10_2.12;3.4.0 in central\n",
      "\tfound org.apache.spark#spark-token-provider-kafka-0-10_2.12;3.4.0 in central\n",
      "\tfound org.apache.kafka#kafka-clients;3.3.2 in central\n",
      "\tfound org.lz4#lz4-java;1.8.0 in central\n",
      "\tfound org.xerial.snappy#snappy-java;1.1.9.1 in central\n",
      "\tfound org.slf4j#slf4j-api;2.0.6 in central\n",
      "\tfound org.apache.hadoop#hadoop-client-runtime;3.3.4 in central\n",
      "\tfound org.apache.hadoop#hadoop-client-api;3.3.4 in central\n",
      "\tfound commons-logging#commons-logging;1.1.3 in central\n",
      "\tfound com.google.code.findbugs#jsr305;3.0.0 in central\n",
      "\tfound org.apache.commons#commons-pool2;2.11.1 in central\n",
      ":: resolution report :: resolve 466ms :: artifacts dl 17ms\n",
      "\t:: modules in use:\n",
      "\tcom.google.code.findbugs#jsr305;3.0.0 from central in [default]\n",
      "\tcommons-logging#commons-logging;1.1.3 from central in [default]\n",
      "\torg.apache.commons#commons-pool2;2.11.1 from central in [default]\n",
      "\torg.apache.hadoop#hadoop-client-api;3.3.4 from central in [default]\n",
      "\torg.apache.hadoop#hadoop-client-runtime;3.3.4 from central in [default]\n",
      "\torg.apache.kafka#kafka-clients;3.3.2 from central in [default]\n",
      "\torg.apache.spark#spark-sql-kafka-0-10_2.12;3.4.0 from central in [default]\n",
      "\torg.apache.spark#spark-token-provider-kafka-0-10_2.12;3.4.0 from central in [default]\n",
      "\torg.lz4#lz4-java;1.8.0 from central in [default]\n",
      "\torg.slf4j#slf4j-api;2.0.6 from central in [default]\n",
      "\torg.xerial.snappy#snappy-java;1.1.9.1 from central in [default]\n",
      "\t---------------------------------------------------------------------\n",
      "\t|                  |            modules            ||   artifacts   |\n",
      "\t|       conf       | number| search|dwnlded|evicted|| number|dwnlded|\n",
      "\t---------------------------------------------------------------------\n",
      "\t|      default     |   11  |   0   |   0   |   0   ||   11  |   0   |\n",
      "\t---------------------------------------------------------------------\n",
      ":: retrieving :: org.apache.spark#spark-submit-parent-37d90c30-c27c-4af9-b5f1-b4f166492c20\n",
      "\tconfs: [default]\n",
      "\t0 artifacts copied, 11 already retrieved (0kB/9ms)\n",
      "24/01/04 22:39:27 WARN NativeCodeLoader: Unable to load native-hadoop library for your platform... using builtin-java classes where applicable\n",
      "Setting default log level to \"WARN\".\n",
      "To adjust logging level use sc.setLogLevel(newLevel). For SparkR, use setLogLevel(newLevel).\n",
      "/Users/luiz.oliveira/projects/n_projects/lib/python3.7/site-packages/pyspark/context.py:317: FutureWarning: Python 3.7 support is deprecated in Spark 3.4.\n",
      "  warnings.warn(\"Python 3.7 support is deprecated in Spark 3.4.\", FutureWarning)\n"
     ]
    }
   ],
   "source": [
    "spark = SparkSession.builder \\\n",
    "    .config(\"spark.driver.host\", \"localhost\") \\\n",
    "    .config(\"spark.jars.packages\", \"org.apache.spark:spark-sql-kafka-0-10_2.12:3.4.0\") \\\n",
    "    .appName(\"StreamingPipeline\") \\\n",
    "    .master(\"local[2]\") \\\n",
    "    .getOrCreate()"
   ]
  },
  {
   "cell_type": "code",
   "execution_count": 5,
   "metadata": {},
   "outputs": [],
   "source": [
    "kafka_bootstrap_servers = 'localhost:9092'\n",
    "kafka_topic = 'topic_streaming_data'"
   ]
  },
  {
   "cell_type": "code",
   "execution_count": 6,
   "metadata": {},
   "outputs": [],
   "source": [
    "streaming_df = spark.readStream \\\n",
    "    .format(\"kafka\") \\\n",
    "    .option(\"kafka.bootstrap.servers\", kafka_bootstrap_servers) \\\n",
    "    .option(\"subscribe\", kafka_topic) \\\n",
    "    .option(\"startingOffsets\", \"earliest\") \\\n",
    "    .option(\"failOnDataLoss\", \"false\") \\\n",
    "    .load()"
   ]
  },
  {
   "cell_type": "code",
   "execution_count": 7,
   "metadata": {},
   "outputs": [
    {
     "name": "stdout",
     "output_type": "stream",
     "text": [
      "root\n",
      " |-- key: binary (nullable = true)\n",
      " |-- value: binary (nullable = true)\n",
      " |-- topic: string (nullable = true)\n",
      " |-- partition: integer (nullable = true)\n",
      " |-- offset: long (nullable = true)\n",
      " |-- timestamp: timestamp (nullable = true)\n",
      " |-- timestampType: integer (nullable = true)\n",
      "\n"
     ]
    }
   ],
   "source": [
    "streaming_df.printSchema()"
   ]
  },
  {
   "cell_type": "code",
   "execution_count": 8,
   "metadata": {},
   "outputs": [],
   "source": [
    "json_schema = StructType([\n",
    "    StructField('vendedor', StructType([\n",
    "        StructField('nome', StringType()),\n",
    "        StructField('codigo', StringType()),\n",
    "        StructField('filial', StringType())\n",
    "    ])),\n",
    "    StructField('filial', StructType([\n",
    "        StructField('nome', StringType()),\n",
    "        StructField('estado', StringType()),\n",
    "        StructField('cidade', StringType())\n",
    "    ])),\n",
    "    StructField('produto', StructType([\n",
    "        StructField('codigo', StringType()),\n",
    "        StructField('nome', StringType()),\n",
    "        StructField('preço', DoubleType()),\n",
    "        StructField('categoria', StringType()),\n",
    "        StructField('cor', StringType())\n",
    "    ])),\n",
    "    StructField('quantidade', IntegerType()),\n",
    "    StructField('ordem_id', IntegerType()),\n",
    "    StructField('timestamp', StringType())\n",
    "])"
   ]
  },
  {
   "cell_type": "code",
   "execution_count": 9,
   "metadata": {},
   "outputs": [],
   "source": [
    "streaming_df = streaming_df.withColumn(\"value\", F.decode(F.col(\"value\"), 'UTF-8'))\n",
    "streaming_df = streaming_df.select(F.from_json(F.col('value').cast('string'), json_schema).alias('data'),'timestamp')\n",
    "streaming_df = streaming_df.withColumn(\"timestamp_venda\", F.from_unixtime(\"data.timestamp\"))"
   ]
  },
  {
   "cell_type": "code",
   "execution_count": 10,
   "metadata": {},
   "outputs": [
    {
     "name": "stdout",
     "output_type": "stream",
     "text": [
      "root\n",
      " |-- data: struct (nullable = true)\n",
      " |    |-- vendedor: struct (nullable = true)\n",
      " |    |    |-- nome: string (nullable = true)\n",
      " |    |    |-- codigo: string (nullable = true)\n",
      " |    |    |-- filial: string (nullable = true)\n",
      " |    |-- filial: struct (nullable = true)\n",
      " |    |    |-- nome: string (nullable = true)\n",
      " |    |    |-- estado: string (nullable = true)\n",
      " |    |    |-- cidade: string (nullable = true)\n",
      " |    |-- produto: struct (nullable = true)\n",
      " |    |    |-- codigo: string (nullable = true)\n",
      " |    |    |-- nome: string (nullable = true)\n",
      " |    |    |-- preço: double (nullable = true)\n",
      " |    |    |-- categoria: string (nullable = true)\n",
      " |    |    |-- cor: string (nullable = true)\n",
      " |    |-- quantidade: integer (nullable = true)\n",
      " |    |-- ordem_id: integer (nullable = true)\n",
      " |    |-- timestamp: string (nullable = true)\n",
      " |-- timestamp: timestamp (nullable = true)\n",
      " |-- timestamp_venda: string (nullable = true)\n",
      "\n"
     ]
    }
   ],
   "source": [
    "streaming_df.printSchema()"
   ]
  },
  {
   "cell_type": "code",
   "execution_count": 11,
   "metadata": {},
   "outputs": [],
   "source": [
    "filtered_df = streaming_df.filter(F.col(\"data.produto.categoria\") == 'Eletrônicos')\\\n",
    "                            .select(\n",
    "                                'data.produto.nome',\n",
    "                                'data.produto.preço',\n",
    "                                'data.quantidade',\n",
    "                                'data.filial.nome',\n",
    "                                'data.filial.cidade',\n",
    "                                'data.ordem_id',\n",
    "                                'timestamp'\n",
    "                            )"
   ]
  },
  {
   "cell_type": "code",
   "execution_count": 12,
   "metadata": {},
   "outputs": [
    {
     "name": "stdout",
     "output_type": "stream",
     "text": [
      "root\n",
      " |-- nome: string (nullable = true)\n",
      " |-- preço: double (nullable = true)\n",
      " |-- quantidade: integer (nullable = true)\n",
      " |-- nome: string (nullable = true)\n",
      " |-- cidade: string (nullable = true)\n",
      " |-- ordem_id: integer (nullable = true)\n",
      " |-- timestamp: timestamp (nullable = true)\n",
      "\n"
     ]
    }
   ],
   "source": [
    "filtered_df.printSchema()"
   ]
  },
  {
   "cell_type": "code",
   "execution_count": 13,
   "metadata": {},
   "outputs": [],
   "source": [
    "aggregated_df = filtered_df.withWatermark(\"timestamp\", \"10 minutes\")\\\n",
    "                           .groupBy(F.window(F.col(\"timestamp\"), \"10 minutes\"),\"cidade\").agg(F.sum( \n",
    "                                                            F.col(\"preço\")*F.col(\"quantidade\")\n",
    "                                                            ).alias(\"total\"),\n",
    "                                                            F.sum(\"quantidade\").alias(\"quantidade_vendida\"),\n",
    "                           )\n",
    "\n",
    "aggregated_df = aggregated_df.withColumn(\"valor_medio_de_venda\", F.col(\"total\")/F.col(\"quantidade_vendida\"))"
   ]
  },
  {
   "cell_type": "code",
   "execution_count": 14,
   "metadata": {},
   "outputs": [
    {
     "name": "stdout",
     "output_type": "stream",
     "text": [
      "root\n",
      " |-- window: struct (nullable = false)\n",
      " |    |-- start: timestamp (nullable = true)\n",
      " |    |-- end: timestamp (nullable = true)\n",
      " |-- cidade: string (nullable = true)\n",
      " |-- total: double (nullable = true)\n",
      " |-- quantidade_vendida: long (nullable = true)\n",
      " |-- valor_medio_de_venda: double (nullable = true)\n",
      "\n"
     ]
    }
   ],
   "source": [
    "aggregated_df.printSchema()"
   ]
  },
  {
   "cell_type": "code",
   "execution_count": 15,
   "metadata": {},
   "outputs": [],
   "source": [
    "aggregated_df = aggregated_df.withColumn(\"year\", F.year(F.col(\"window.start\")))\n",
    "aggregated_df = aggregated_df.withColumn(\"month\",F.month(F.col(\"window.start\")))\n",
    "aggregated_df = aggregated_df.withColumn(\"day\", F.dayofmonth(F.col(\"window.start\")))\n",
    "aggregated_df = aggregated_df.withColumn(\"hour\", F.hour(F.col(\"window.start\")))"
   ]
  },
  {
   "cell_type": "code",
   "execution_count": 16,
   "metadata": {},
   "outputs": [],
   "source": [
    "output_path = os.getcwd().split('stream_pipeline')[0] + \"stream_pipeline/output/topic_streaming_data/data_29\"\n",
    "checkpoint_path = os.getcwd().split('stream_pipeline')[0] + \"stream_pipeline/checkpoint_path/topic_streaming_data/data_29\""
   ]
  },
  {
   "cell_type": "code",
   "execution_count": null,
   "metadata": {},
   "outputs": [
    {
     "name": "stderr",
     "output_type": "stream",
     "text": [
      "24/01/04 16:26:05 WARN ResolveWriteToStream: spark.sql.adaptive.enabled is not supported in streaming DataFrames/Datasets and will be disabled.\n"
     ]
    },
    {
     "name": "stderr",
     "output_type": "stream",
     "text": [
      "24/01/04 16:26:05 WARN AdminClientConfig: These configurations '[key.deserializer, value.deserializer, enable.auto.commit, max.poll.records, auto.offset.reset]' were supplied but are not used yet.\n",
      "                                                                                \r"
     ]
    }
   ],
   "source": [
    "query = aggregated_df.writeStream \\\n",
    "    .outputMode(\"append\") \\\n",
    "    .format(\"parquet\") \\\n",
    "    .option(\"path\", output_path) \\\n",
    "    .option(\"checkpointLocation\", checkpoint_path) \\\n",
    "    .partitionBy(\"year\", \"month\", \"day\", \"hour\") \\\n",
    "    .trigger(processingTime='1 minute') \\\n",
    "    .start()"
   ]
  },
  {
   "cell_type": "code",
   "execution_count": 119,
   "metadata": {},
   "outputs": [
    {
     "name": "stdout",
     "output_type": "stream",
     "text": [
      "{'message': 'Waiting for next trigger', 'isDataAvailable': True, 'isTriggerActive': False}\n"
     ]
    }
   ],
   "source": [
    "print(query.status)"
   ]
  },
  {
   "cell_type": "code",
   "execution_count": 30,
   "metadata": {},
   "outputs": [
    {
     "data": {
      "text/plain": [
       "'/Users/luiz.oliveira/eng_data/stream_pipeline/pipeline'"
      ]
     },
     "execution_count": 30,
     "metadata": {},
     "output_type": "execute_result"
    }
   ],
   "source": [
    "os.getcwd()#.split('stream_pipeline')[0] + \"stream_pipeline/output\""
   ]
  },
  {
   "cell_type": "code",
   "execution_count": 121,
   "metadata": {},
   "outputs": [],
   "source": [
    "df = spark.read.format('delta').parquet('/Users/luiz.oliveira/eng_data/stream_pipeline/output/topic_streaming_data/data_28')"
   ]
  },
  {
   "cell_type": "code",
   "execution_count": 35,
   "metadata": {},
   "outputs": [],
   "source": [
    "df = df.withColumn(\"value_2\", F.decode(F.col(\"value\"), 'UTF-8'))"
   ]
  },
  {
   "cell_type": "code",
   "execution_count": 122,
   "metadata": {},
   "outputs": [
    {
     "name": "stdout",
     "output_type": "stream",
     "text": [
      "+------------------------------------------+--------------+--------+----+-----+---+----+\n",
      "|window                                    |cidade        |total   |year|month|day|hour|\n",
      "+------------------------------------------+--------------+--------+----+-----+---+----+\n",
      "|{2024-01-04 15:30:00, 2024-01-04 15:40:00}|Rio de Janeiro|57000.0 |2024|1    |4  |15  |\n",
      "|{2024-01-04 15:30:00, 2024-01-04 15:40:00}|Belo Horizonte|56500.0 |2024|1    |4  |15  |\n",
      "|{2024-01-04 15:20:00, 2024-01-04 15:30:00}|Rio de Janeiro|32500.0 |2024|1    |4  |15  |\n",
      "|{2024-01-04 15:20:00, 2024-01-04 15:30:00}|Belo Horizonte|45500.0 |2024|1    |4  |15  |\n",
      "|{2024-01-04 15:50:00, 2024-01-04 16:00:00}|Belo Horizonte|53000.0 |2024|1    |4  |15  |\n",
      "|{2024-01-04 15:50:00, 2024-01-04 16:00:00}|Florianópolis |64500.0 |2024|1    |4  |15  |\n",
      "|{2024-01-04 15:20:00, 2024-01-04 15:30:00}|Florianópolis |35500.0 |2024|1    |4  |15  |\n",
      "|{2024-01-04 15:50:00, 2024-01-04 16:00:00}|Rio de Janeiro|74500.0 |2024|1    |4  |15  |\n",
      "|{2024-01-04 16:00:00, 2024-01-04 16:10:00}|Rio de Janeiro|15000.0 |2024|1    |4  |16  |\n",
      "|{2024-01-04 16:00:00, 2024-01-04 16:10:00}|Florianópolis |8500.0  |2024|1    |4  |16  |\n",
      "|{2024-01-04 16:00:00, 2024-01-04 16:10:00}|Belo Horizonte|30500.0 |2024|1    |4  |16  |\n",
      "|{2024-01-04 15:10:00, 2024-01-04 15:20:00}|Belo Horizonte|102000.0|2024|1    |4  |15  |\n",
      "|{2024-01-04 15:10:00, 2024-01-04 15:20:00}|Florianópolis |66500.0 |2024|1    |4  |15  |\n",
      "|{2024-01-04 15:10:00, 2024-01-04 15:20:00}|Rio de Janeiro|84000.0 |2024|1    |4  |15  |\n",
      "|{2024-01-04 14:40:00, 2024-01-04 14:50:00}|Florianópolis |34000.0 |2024|1    |4  |14  |\n",
      "|{2024-01-04 14:40:00, 2024-01-04 14:50:00}|Rio de Janeiro|31000.0 |2024|1    |4  |14  |\n",
      "|{2024-01-04 14:40:00, 2024-01-04 14:50:00}|Belo Horizonte|22500.0 |2024|1    |4  |14  |\n",
      "|{2024-01-04 15:50:00, 2024-01-04 16:00:00}|Porto Alegre  |61000.0 |2024|1    |4  |15  |\n",
      "|{2024-01-04 15:30:00, 2024-01-04 15:40:00}|Porto Alegre  |77000.0 |2024|1    |4  |15  |\n",
      "|{2024-01-04 15:20:00, 2024-01-04 15:30:00}|Porto Alegre  |14500.0 |2024|1    |4  |15  |\n",
      "+------------------------------------------+--------------+--------+----+-----+---+----+\n",
      "only showing top 20 rows\n",
      "\n"
     ]
    }
   ],
   "source": [
    "df.show(truncate=False)"
   ]
  },
  {
   "cell_type": "code",
   "execution_count": 62,
   "metadata": {},
   "outputs": [
    {
     "name": "stdout",
     "output_type": "stream",
     "text": [
      "+--------+\n",
      "|    nome|\n",
      "+--------+\n",
      "|    José|\n",
      "|  Carlos|\n",
      "|   Pedro|\n",
      "|   Maria|\n",
      "|Fernanda|\n",
      "|    José|\n",
      "|    João|\n",
      "|   Pedro|\n",
      "| Mariana|\n",
      "| Mariana|\n",
      "|     Ana|\n",
      "|   Pedro|\n",
      "|    João|\n",
      "|    José|\n",
      "|   Paulo|\n",
      "|    João|\n",
      "|   Pedro|\n",
      "|     Ana|\n",
      "| Juliana|\n",
      "|    João|\n",
      "+--------+\n",
      "only showing top 20 rows\n",
      "\n"
     ]
    }
   ],
   "source": [
    "df.select(\"data.vendedor.nome\").show()"
   ]
  },
  {
   "cell_type": "code",
   "execution_count": null,
   "metadata": {},
   "outputs": [],
   "source": []
  }
 ],
 "metadata": {
  "kernelspec": {
   "display_name": "n_projects",
   "language": "python",
   "name": "python3"
  },
  "language_info": {
   "codemirror_mode": {
    "name": "ipython",
    "version": 3
   },
   "file_extension": ".py",
   "mimetype": "text/x-python",
   "name": "python",
   "nbconvert_exporter": "python",
   "pygments_lexer": "ipython3",
   "version": "3.7.16"
  }
 },
 "nbformat": 4,
 "nbformat_minor": 2
}
